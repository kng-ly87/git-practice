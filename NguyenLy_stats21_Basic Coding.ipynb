{
 "cells": [
  {
   "cell_type": "markdown",
   "id": "f7a91ec1",
   "metadata": {},
   "source": [
    "## Q1. Write a python code to count the number of even elements in a list"
   ]
  },
  {
   "cell_type": "code",
   "execution_count": 1,
   "id": "4c15198d",
   "metadata": {},
   "outputs": [],
   "source": [
    "my_list_1 = [252, 9, 258, 220, 249, 83, 195, 298, 228, 67, 233, 133, 280, 96, 53, 204, \n",
    "            247, 268, 115, 127, 215, 214, 221, 275, 224, 36, 292, 145, 150, 17, 93, \n",
    "            292, 206, 229, 189, 41, 246, 279, 158, 161, 90, 47, 195, 137, 171, 5, \n",
    "            206, 106, 58, 226, 140, 6, 29, 277, 192, 47, 296, 90, 19, 290, 235, 229, \n",
    "            26, 8, 220, 168, 294, 238, 138, 150, 13, 143, 209, 102, 192, 2, 140, 6, 99, 189\n",
    "            ]"
   ]
  },
  {
   "cell_type": "code",
   "execution_count": 6,
   "id": "e803ff67",
   "metadata": {},
   "outputs": [
    {
     "name": "stdout",
     "output_type": "stream",
     "text": [
      "42\n"
     ]
    }
   ],
   "source": [
    "#Using a for loop\n",
    "evens = 0\n",
    "for x in my_list_1:\n",
    "    if x %2 == 0:\n",
    "        evens += 1  #c = c + 1\n",
    "print(evens)"
   ]
  },
  {
   "cell_type": "code",
   "execution_count": 10,
   "id": "16ffbe43",
   "metadata": {},
   "outputs": [
    {
     "data": {
      "text/plain": [
       "42"
      ]
     },
     "execution_count": 10,
     "metadata": {},
     "output_type": "execute_result"
    }
   ],
   "source": [
    "#Using a list comprehension\n",
    "len([x for x in my_list_1 if x %2 ==0])"
   ]
  },
  {
   "cell_type": "markdown",
   "id": "2c812440",
   "metadata": {},
   "source": [
    "## Q2. Write a python code to check the type of a variable to ensure that it is of type int. If so, print out the variable and that the input is validated. If it's not an int, print out that the input is invalid."
   ]
  },
  {
   "cell_type": "code",
   "execution_count": 13,
   "id": "8be2e6c4",
   "metadata": {},
   "outputs": [
    {
     "name": "stdout",
     "output_type": "stream",
     "text": [
      "Input is invalid\n"
     ]
    }
   ],
   "source": [
    "var = 'stats'\n",
    "if type(var) == int:\n",
    "    print(\"Input is valid.\")\n",
    "else:\n",
    "    print(\"Input is invalid\")"
   ]
  },
  {
   "cell_type": "markdown",
   "id": "288fab6c",
   "metadata": {},
   "source": [
    "## Q3. Write a python code to determine the number of days in the current month. We can assume it's not a leap year."
   ]
  },
  {
   "cell_type": "code",
   "execution_count": 20,
   "id": "5c1aeba4",
   "metadata": {},
   "outputs": [
    {
     "name": "stdout",
     "output_type": "stream",
     "text": [
      "4\n",
      "30 days in the month\n"
     ]
    }
   ],
   "source": [
    "import datetime\n",
    "today_dt = datetime.date.today()\n",
    "current_month = today_dt.month\n",
    "print(current_month)\n",
    "\n",
    "#code to determine the number of days in the current month\n",
    "\n",
    "if current_month in [1, 3, 5, 7, 8, 10, 12]:\n",
    "    print(\"31 days in the month\")\n",
    "elif current_month == 2:\n",
    "    print(\"28 days in the month\")\n",
    "else:\n",
    "    print(\"30 days in the month\")"
   ]
  }
 ],
 "metadata": {
  "kernelspec": {
   "display_name": "Python 3 (ipykernel)",
   "language": "python",
   "name": "python3"
  },
  "language_info": {
   "codemirror_mode": {
    "name": "ipython",
    "version": 3
   },
   "file_extension": ".py",
   "mimetype": "text/x-python",
   "name": "python",
   "nbconvert_exporter": "python",
   "pygments_lexer": "ipython3",
   "version": "3.9.7"
  }
 },
 "nbformat": 4,
 "nbformat_minor": 5
}
